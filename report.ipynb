{
 "cells": [
  {
   "cell_type": "code",
   "execution_count": 16,
   "id": "a21ac865",
   "metadata": {},
   "outputs": [
    {
     "name": "stdout",
     "output_type": "stream",
     "text": [
      "https://api.spotify.com/v1/search?q=Levitating&type=track\n",
      "https://api.spotify.com/v1/search?q=Save%20Your%20Tears&type=track\n",
      "https://api.spotify.com/v1/search?q=Blinding%20Lights&type=track\n",
      "https://api.spotify.com/v1/search?q=Mood&type=track\n",
      "https://api.spotify.com/v1/search?q=Good%204%20U&type=track\n",
      "https://api.spotify.com/v1/search?q=Kiss%20Me%20More&type=track\n",
      "https://api.spotify.com/v1/search?q=Leave%20the%20Door%20Open&type=track\n",
      "https://api.spotify.com/v1/search?q=Drivers%20License&type=track\n",
      "https://api.spotify.com/v1/search?q=Montero%20%28Call%20Me%20by%20Your%20Name%29&type=track\n",
      "https://api.spotify.com/v1/search?q=Peaches&type=track\n",
      "https://api.spotify.com/v1/search?q=Blinding%20Lights&type=track\n",
      "https://api.spotify.com/v1/search?q=Circles&type=track\n",
      "https://api.spotify.com/v1/search?q=The%20Box&type=track\n",
      "https://api.spotify.com/v1/search?q=Don%27t%20Start%20Now&type=track\n",
      "https://api.spotify.com/v1/search?q=Rockstar&type=track\n",
      "https://api.spotify.com/v1/search?q=Adore%20You&type=track\n",
      "https://api.spotify.com/v1/search?q=Life%20is%20Good&type=track\n",
      "https://api.spotify.com/v1/search?q=Memories&type=track\n",
      "https://api.spotify.com/v1/search?q=The%20Bones&type=track\n",
      "https://api.spotify.com/v1/search?q=Someone%20you%20Loved&type=track\n"
     ]
    }
   ],
   "source": [
    "import importlib\n",
    "import utils\n",
    "importlib.reload(utils)\n",
    "import pandas as pd\n",
    "import os\n",
    "\n",
    "file_list = os.listdir(\"data\")\n",
    "access_token = utils.get_access_token()\n",
    "df = pd.DataFrame()\n",
    "for file in file_list:\n",
    "    if file.lower() == '.ds_store': \n",
    "        continue\n",
    "    year = file[10:14]\n",
    "    with open (f'data/{file}', 'r', encoding='utf-8') as infile:\n",
    "        contents = infile.read().splitlines()\n",
    "    for line in contents:\n",
    "        tmp_df = utils.track_to_DataFrame(access_token, line)\n",
    "        tmp_df['song name'] = line\n",
    "        tmp_df['year'] = year\n",
    "        tmp_df.set_index('song name', drop=True, append=False, inplace=True, verify_integrity=False)\n",
    "        df = pd.concat([df, tmp_df])\n",
    "\n",
    "\n",
    "df.to_csv(\"test.csv\")"
   ]
  }
 ],
 "metadata": {
  "kernelspec": {
   "display_name": "Python 3 (ipykernel)",
   "language": "python",
   "name": "python3"
  },
  "language_info": {
   "codemirror_mode": {
    "name": "ipython",
    "version": 3
   },
   "file_extension": ".py",
   "mimetype": "text/x-python",
   "name": "python",
   "nbconvert_exporter": "python",
   "pygments_lexer": "ipython3",
   "version": "3.9.7"
  }
 },
 "nbformat": 4,
 "nbformat_minor": 5
}
